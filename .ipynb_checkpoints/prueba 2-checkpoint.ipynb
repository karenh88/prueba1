{
 "cells": [
  {
   "cell_type": "code",
   "execution_count": null,
   "id": "f7706cfe",
   "metadata": {},
   "outputs": [],
   "source": [
    "bongiorno  "
   ]
  },
  {
   "cell_type": "markdown",
   "id": "24ff248f",
   "metadata": {},
   "source": [
    "### Pull Request"
   ]
  },
  {
   "cell_type": "code",
   "execution_count": null,
   "id": "58b8ac7f",
   "metadata": {},
   "outputs": [],
   "source": [
    "segundo cambio"
   ]
  }
 ],
 "metadata": {
  "kernelspec": {
   "display_name": "Python 3 (ipykernel)",
   "language": "python",
   "name": "python3"
  },
  "language_info": {
   "codemirror_mode": {
    "name": "ipython",
    "version": 3
   },
   "file_extension": ".py",
   "mimetype": "text/x-python",
   "name": "python",
   "nbconvert_exporter": "python",
   "pygments_lexer": "ipython3",
   "version": "3.9.7"
  }
 },
 "nbformat": 4,
 "nbformat_minor": 5
}
